{
  "nbformat": 4,
  "nbformat_minor": 0,
  "metadata": {
    "colab": {
      "name": "Final Ai Project Accuracy & Data aug.ipynb",
      "provenance": [],
      "collapsed_sections": []
    },
    "kernelspec": {
      "name": "python3",
      "display_name": "Python 3"
    },
    "language_info": {
      "name": "python"
    }
  },
  "cells": [
    {
      "cell_type": "code",
      "source": [
        "import cv2\n",
        "import numpy as np\n",
        "import os\n",
        "from random import shuffle\n",
        "from tqdm import tqdm\n",
        "import tensorflow as tf\n",
        "import matplotlib.pyplot as plt\n",
        "from sklearn.model_selection import train_test_split\n",
        "from keras.models import Sequential\n",
        "import keras.layers"
      ],
      "metadata": {
        "id": "XvE5WudOpG0N"
      },
      "execution_count": 25,
      "outputs": []
    },
    {
      "cell_type": "code",
      "source": [
        "from zipfile import ZipFile\n",
        "file_name = \"/content/archive (2).zip\"\n",
        "with ZipFile(file_name, 'r') as zip:\n",
        "  zip.extractall('/content/sample_data')\n",
        "  print('done')"
      ],
      "metadata": {
        "colab": {
          "base_uri": "https://localhost:8080/"
        },
        "id": "YA5rZikQjt_P",
        "outputId": "cbf7c368-1287-4a0c-90b0-ad37ef46e5d1"
      },
      "execution_count": 26,
      "outputs": [
        {
          "output_type": "stream",
          "name": "stdout",
          "text": [
            "done\n"
          ]
        }
      ]
    },
    {
      "cell_type": "code",
      "source": [
        "TRAIN_DIR = '/content/sample_data/data'\n",
        "IMG_SIZE = 224\n",
        "MODEL_NAME = 'xray'"
      ],
      "metadata": {
        "id": "-BfHDBU1kKHy"
      },
      "execution_count": 27,
      "outputs": []
    },
    {
      "cell_type": "code",
      "source": [
        "def create_label(image_name):\n",
        "    \"\"\" Create an one-hot encoded vector from image name \"\"\"\n",
        "    word_label = (image_name.split('.')[-3])\n",
        "    if word_label == 'Cofield':\n",
        "        return np.array([1,0,0,0])\n",
        "    elif word_label == 'Zimmer':\n",
        "        return np.array([0,1,0,0])\n",
        "    elif word_label == 'Tornier':\n",
        "       return np.array([0,0,1,0])\n",
        "    elif word_label == 'Depuy':\n",
        "       return np.array([0,0,0,1])"
      ],
      "metadata": {
        "id": "Y2HoiYJGkhu-"
      },
      "execution_count": 28,
      "outputs": []
    },
    {
      "cell_type": "code",
      "source": [
        "create_label('Cofield.1.jpg')"
      ],
      "metadata": {
        "colab": {
          "base_uri": "https://localhost:8080/"
        },
        "id": "GXA0hpRxpjH3",
        "outputId": "7fbd4ba6-34f8-4f83-e61a-4c83b0d8ecfb"
      },
      "execution_count": 29,
      "outputs": [
        {
          "output_type": "execute_result",
          "data": {
            "text/plain": [
              "array([1, 0, 0, 0])"
            ]
          },
          "metadata": {},
          "execution_count": 29
        }
      ]
    },
    {
      "cell_type": "code",
      "source": [
        "from skimage import data, img_as_float\n",
        "from skimage import exposure\n",
        "def create_train_data():\n",
        "    training_data = []\n",
        "    for img in tqdm(os.listdir(TRAIN_DIR)):\n",
        "        path = os.path.join(TRAIN_DIR, img)\n",
        "        img_data = cv2.imread(path)\n",
        "        img_data = cv2.resize(img_data, (IMG_SIZE, IMG_SIZE))\n",
        "        myimg=(np.array(img_data)/255)\n",
        "        training_data.append([ myimg , create_label(img)])\n",
        "    shuffle(training_data)\n",
        "    return training_data"
      ],
      "metadata": {
        "id": "z7SyVcl6n3og"
      },
      "execution_count": 30,
      "outputs": []
    },
    {
      "cell_type": "code",
      "source": [
        "X =[]\n",
        "y =[]\n",
        "for features, label in create_train_data():\n",
        "  X.append(features)\n",
        "  y.append(label)\n",
        "X = np.array(X).reshape(-1,224,224,3)\n",
        "y=np.array(y)"
      ],
      "metadata": {
        "colab": {
          "base_uri": "https://localhost:8080/"
        },
        "id": "O-urPI3woia9",
        "outputId": "592e0b53-06a6-49c8-ef57-a2134524195c"
      },
      "execution_count": 31,
      "outputs": [
        {
          "output_type": "stream",
          "name": "stderr",
          "text": [
            "100%|██████████| 597/597 [00:01<00:00, 516.96it/s]\n"
          ]
        }
      ]
    },
    {
      "cell_type": "code",
      "source": [
        "X.shape"
      ],
      "metadata": {
        "colab": {
          "base_uri": "https://localhost:8080/"
        },
        "id": "7bS2zVW7tpTM",
        "outputId": "1836eeff-6bc0-4d5d-b3ba-0d72d2aed2b7"
      },
      "execution_count": 32,
      "outputs": [
        {
          "output_type": "execute_result",
          "data": {
            "text/plain": [
              "(597, 224, 224, 3)"
            ]
          },
          "metadata": {},
          "execution_count": 32
        }
      ]
    },
    {
      "cell_type": "code",
      "source": [
        "X.shape"
      ],
      "metadata": {
        "colab": {
          "base_uri": "https://localhost:8080/"
        },
        "id": "HGaqbW-XUVS3",
        "outputId": "8edfcbbd-d2e0-42e7-f43b-336265c874bc"
      },
      "execution_count": 33,
      "outputs": [
        {
          "output_type": "execute_result",
          "data": {
            "text/plain": [
              "(597, 224, 224, 3)"
            ]
          },
          "metadata": {},
          "execution_count": 33
        }
      ]
    },
    {
      "cell_type": "code",
      "source": [
        "y.shape"
      ],
      "metadata": {
        "id": "6qPmtxpGmn3d",
        "outputId": "2a9cde79-d96d-4bff-c0a8-19117bce4d2d",
        "colab": {
          "base_uri": "https://localhost:8080/"
        }
      },
      "execution_count": 34,
      "outputs": [
        {
          "output_type": "execute_result",
          "data": {
            "text/plain": [
              "(597, 4)"
            ]
          },
          "metadata": {},
          "execution_count": 34
        }
      ]
    },
    {
      "cell_type": "code",
      "source": [
        "from sklearn.model_selection import train_test_split\n",
        "X_train, X_test, y_train, y_test = train_test_split(X, y, test_size = 0.2)"
      ],
      "metadata": {
        "id": "C6sT2RLYt-_V"
      },
      "execution_count": 35,
      "outputs": []
    },
    {
      "cell_type": "code",
      "source": [
        "X_train.shape"
      ],
      "metadata": {
        "colab": {
          "base_uri": "https://localhost:8080/"
        },
        "id": "kkD-l7RUwc-9",
        "outputId": "8b7fe003-e5e5-4d55-f7f1-c538310a5e24"
      },
      "execution_count": 36,
      "outputs": [
        {
          "output_type": "execute_result",
          "data": {
            "text/plain": [
              "(477, 224, 224, 3)"
            ]
          },
          "metadata": {},
          "execution_count": 36
        }
      ]
    },
    {
      "cell_type": "code",
      "source": [
        "X_test.shape"
      ],
      "metadata": {
        "colab": {
          "base_uri": "https://localhost:8080/"
        },
        "id": "uL36neRrw1_a",
        "outputId": "2cc6c737-e0f3-4591-c8d9-b096bd028724"
      },
      "execution_count": 37,
      "outputs": [
        {
          "output_type": "execute_result",
          "data": {
            "text/plain": [
              "(120, 224, 224, 3)"
            ]
          },
          "metadata": {},
          "execution_count": 37
        }
      ]
    },
    {
      "cell_type": "code",
      "source": [
        "y_train.shape"
      ],
      "metadata": {
        "id": "8RZbVPMqz1Vy",
        "outputId": "5e43d333-cbbe-4dbf-f7db-1b2842606104",
        "colab": {
          "base_uri": "https://localhost:8080/"
        }
      },
      "execution_count": 38,
      "outputs": [
        {
          "output_type": "execute_result",
          "data": {
            "text/plain": [
              "(477, 4)"
            ]
          },
          "metadata": {},
          "execution_count": 38
        }
      ]
    },
    {
      "cell_type": "code",
      "source": [
        "y_test.shape"
      ],
      "metadata": {
        "id": "mjWaRUFaz1qF",
        "outputId": "db082ac8-60c1-45a0-ea91-9f2f0b0c5e3e",
        "colab": {
          "base_uri": "https://localhost:8080/"
        }
      },
      "execution_count": 39,
      "outputs": [
        {
          "output_type": "execute_result",
          "data": {
            "text/plain": [
              "(120, 4)"
            ]
          },
          "metadata": {},
          "execution_count": 39
        }
      ]
    },
    {
      "cell_type": "code",
      "source": [
        "data_augmentation = keras.Sequential(\n",
        "  [\n",
        "    tf.keras.layers.RandomFlip(\"horizontal\",\n",
        "                      input_shape=(224,\n",
        "                                  224,\n",
        "                                  3)),\n",
        "    tf.keras. layers.RandomRotation(0.1),\n",
        "     tf.keras.layers.RandomZoom(0.1),\n",
        "  ]\n",
        ")"
      ],
      "metadata": {
        "id": "XrydKfMNExs9"
      },
      "execution_count": 40,
      "outputs": []
    },
    {
      "cell_type": "code",
      "source": [
        "model= tf.keras.Sequential([data_augmentation,\n",
        "    tf.keras.layers.Conv2D(32, (3,3), padding='same', activation=tf.nn.relu,\n",
        "                           input_shape=(224, 224,3)),\n",
        "    tf.keras.layers.MaxPooling2D((2, 2), strides=2),\n",
        "    tf.keras.layers.Conv2D(64, (3,3), padding='same', activation=tf.nn.relu),\n",
        "    tf.keras.layers.MaxPooling2D((2, 2), strides=2),\n",
        "    tf.keras.layers.Conv2D(128, (3,3), padding='same', activation=tf.nn.relu),\n",
        "    tf.keras.layers.MaxPooling2D((2, 2), strides=2),\n",
        "\n",
        "    tf.keras.layers.Flatten(),\n",
        "   \n",
        "    tf.keras.layers.Dense(256, activation=tf.nn.relu),\n",
        "        tf.keras.layers.Dropout(0.5),\n",
        "    tf.keras.layers.Dense(4,  activation=tf.nn.softmax)\n",
        "    \n",
        "])"
      ],
      "metadata": {
        "id": "qDmlxPtLv7VT"
      },
      "execution_count": 41,
      "outputs": []
    },
    {
      "cell_type": "code",
      "source": [
        "model.summary()"
      ],
      "metadata": {
        "id": "fV6PoS_jq3e_",
        "outputId": "16ff7cbf-cb29-4e36-db3a-5d5462282e98",
        "colab": {
          "base_uri": "https://localhost:8080/"
        }
      },
      "execution_count": 42,
      "outputs": [
        {
          "output_type": "stream",
          "name": "stdout",
          "text": [
            "Model: \"sequential_3\"\n",
            "_________________________________________________________________\n",
            " Layer (type)                Output Shape              Param #   \n",
            "=================================================================\n",
            " sequential_2 (Sequential)   (None, 224, 224, 3)       0         \n",
            "                                                                 \n",
            " conv2d_3 (Conv2D)           (None, 224, 224, 32)      896       \n",
            "                                                                 \n",
            " max_pooling2d_3 (MaxPooling  (None, 112, 112, 32)     0         \n",
            " 2D)                                                             \n",
            "                                                                 \n",
            " conv2d_4 (Conv2D)           (None, 112, 112, 64)      18496     \n",
            "                                                                 \n",
            " max_pooling2d_4 (MaxPooling  (None, 56, 56, 64)       0         \n",
            " 2D)                                                             \n",
            "                                                                 \n",
            " conv2d_5 (Conv2D)           (None, 56, 56, 128)       73856     \n",
            "                                                                 \n",
            " max_pooling2d_5 (MaxPooling  (None, 28, 28, 128)      0         \n",
            " 2D)                                                             \n",
            "                                                                 \n",
            " flatten_1 (Flatten)         (None, 100352)            0         \n",
            "                                                                 \n",
            " dense_2 (Dense)             (None, 256)               25690368  \n",
            "                                                                 \n",
            " dropout_1 (Dropout)         (None, 256)               0         \n",
            "                                                                 \n",
            " dense_3 (Dense)             (None, 4)                 1028      \n",
            "                                                                 \n",
            "=================================================================\n",
            "Total params: 25,784,644\n",
            "Trainable params: 25,784,644\n",
            "Non-trainable params: 0\n",
            "_________________________________________________________________\n"
          ]
        }
      ]
    },
    {
      "cell_type": "code",
      "source": [
        "\n",
        "model.compile(optimizer='adam',loss='categorical_crossentropy',metrics=['accuracy'])\n",
        "model_train=model.fit(X_train, y_train, batch_size = 50, epochs = 10 ,validation_split=.2, verbose=1)"
      ],
      "metadata": {
        "id": "E3nufniirClN",
        "outputId": "7aba5b95-13c5-4369-8543-cdf421c87c28",
        "colab": {
          "base_uri": "https://localhost:8080/"
        }
      },
      "execution_count": 43,
      "outputs": [
        {
          "output_type": "stream",
          "name": "stdout",
          "text": [
            "Epoch 1/10\n",
            "8/8 [==============================] - 40s 5s/step - loss: 2.0560 - accuracy: 0.3071 - val_loss: 1.2530 - val_accuracy: 0.5729\n",
            "Epoch 2/10\n",
            "8/8 [==============================] - 38s 5s/step - loss: 1.2664 - accuracy: 0.4829 - val_loss: 1.2324 - val_accuracy: 0.5729\n",
            "Epoch 3/10\n",
            "8/8 [==============================] - 38s 5s/step - loss: 1.2576 - accuracy: 0.4803 - val_loss: 1.1980 - val_accuracy: 0.5729\n",
            "Epoch 4/10\n",
            "8/8 [==============================] - 38s 5s/step - loss: 1.2359 - accuracy: 0.4856 - val_loss: 1.1822 - val_accuracy: 0.5729\n",
            "Epoch 5/10\n",
            "8/8 [==============================] - 38s 5s/step - loss: 1.2475 - accuracy: 0.4908 - val_loss: 1.2085 - val_accuracy: 0.5729\n",
            "Epoch 6/10\n",
            "8/8 [==============================] - 38s 5s/step - loss: 1.2307 - accuracy: 0.4856 - val_loss: 1.1785 - val_accuracy: 0.5729\n",
            "Epoch 7/10\n",
            "8/8 [==============================] - 38s 5s/step - loss: 1.2346 - accuracy: 0.4829 - val_loss: 1.1868 - val_accuracy: 0.5729\n",
            "Epoch 8/10\n",
            "8/8 [==============================] - 39s 5s/step - loss: 1.2034 - accuracy: 0.4961 - val_loss: 1.1420 - val_accuracy: 0.5729\n",
            "Epoch 9/10\n",
            "8/8 [==============================] - 38s 5s/step - loss: 1.1953 - accuracy: 0.4987 - val_loss: 1.1597 - val_accuracy: 0.6250\n",
            "Epoch 10/10\n",
            "8/8 [==============================] - 40s 5s/step - loss: 1.1974 - accuracy: 0.4987 - val_loss: 1.1411 - val_accuracy: 0.5729\n"
          ]
        }
      ]
    },
    {
      "cell_type": "code",
      "source": [
        "test_eval = model.evaluate(X_test,y_test, batch_size=200)\n",
        "print('Test loss:', test_eval[0])\n",
        "print('Test accuracy:', test_eval[1])"
      ],
      "metadata": {
        "id": "k5QQiG8hC8ge",
        "colab": {
          "base_uri": "https://localhost:8080/"
        },
        "outputId": "24752e3f-7817-4f66-ee71-e617f36142b4"
      },
      "execution_count": 44,
      "outputs": [
        {
          "output_type": "stream",
          "name": "stdout",
          "text": [
            "1/1 [==============================] - 4s 4s/step - loss: 1.2734 - accuracy: 0.4583\n",
            "Test loss: 1.273402452468872\n",
            "Test accuracy: 0.4583333432674408\n"
          ]
        }
      ]
    },
    {
      "cell_type": "code",
      "source": [
        "train_eval = model.evaluate(X_train,y_train, verbose=0)\n",
        "print('Train loss:', train_eval[0])\n",
        "print('Train accuracy:', train_eval[1])"
      ],
      "metadata": {
        "id": "_IQz9kfEDKQV",
        "colab": {
          "base_uri": "https://localhost:8080/"
        },
        "outputId": "4682a5d7-f8aa-4b73-d03a-08ff25b1218d"
      },
      "execution_count": 45,
      "outputs": [
        {
          "output_type": "stream",
          "name": "stdout",
          "text": [
            "Train loss: 1.16947603225708\n",
            "Train accuracy: 0.5052410960197449\n"
          ]
        }
      ]
    },
    {
      "cell_type": "code",
      "source": [
        "accuracy = model_train.history['accuracy']\n",
        "val_accuracy = model_train.history['val_accuracy']\n",
        "loss = model_train.history['loss']\n",
        "Test_loss = model_train.history['val_loss']\n",
        "epochs = range(len(accuracy))\n",
        "plt.plot(epochs, accuracy, 'b', label='Training accuracy',color='red')\n",
        "plt.plot(epochs, val_accuracy, 'b', label='Test accuracy')\n",
        "plt.title('Training and Test accuracy')\n",
        "plt.legend()\n",
        "plt.figure()\n",
        "plt.plot(epochs, loss, 'b', label='Training loss',color='red')\n",
        "plt.plot(epochs, Test_loss, 'b', label='Test loss')\n",
        "plt.title('Training and Test loss')\n",
        "plt.legend()\n",
        "plt.show()"
      ],
      "metadata": {
        "id": "eDFTfIKdDuL8",
        "colab": {
          "base_uri": "https://localhost:8080/",
          "height": 545
        },
        "outputId": "02db593f-0ae7-4f12-f007-f4653f8e0f65"
      },
      "execution_count": 47,
      "outputs": [
        {
          "output_type": "display_data",
          "data": {
            "image/png": "[encoded data removed]",
            "text/plain": [
              "<Figure size 432x288 with 1 Axes>"
            ]
          },
          "metadata": {
            "needs_background": "light"
          }
        },
        {
          "output_type": "display_data",
          "data": {
            "image/png": "[encoded data removed]",
            "text/plain": [
              "<Figure size 432x288 with 1 Axes>"
            ]
          },
          "metadata": {
            "needs_background": "light"
          }
        }
      ]
    }
  ]
}